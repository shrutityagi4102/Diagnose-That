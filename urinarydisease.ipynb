{
 "cells": [
  {
   "cell_type": "code",
   "execution_count": 1,
   "metadata": {},
   "outputs": [],
   "source": [
    "import numpy as np\n",
    "import pandas as pd\n",
    "from sklearn.model_selection import train_test_split\n",
    "from sklearn.linear_model import LogisticRegression\n",
    "from sklearn.metrics import accuracy_score\n",
    "# dataframe \n",
    "disease = pd.read_csv  (\"acute_inflammations.csv\")"
   ]
  },
  {
   "cell_type": "code",
   "execution_count": 2,
   "metadata": {},
   "outputs": [
    {
     "data": {
      "text/html": [
       "<div>\n",
       "<style scoped>\n",
       "    .dataframe tbody tr th:only-of-type {\n",
       "        vertical-align: middle;\n",
       "    }\n",
       "\n",
       "    .dataframe tbody tr th {\n",
       "        vertical-align: top;\n",
       "    }\n",
       "\n",
       "    .dataframe thead th {\n",
       "        text-align: right;\n",
       "    }\n",
       "</style>\n",
       "<table border=\"1\" class=\"dataframe\">\n",
       "  <thead>\n",
       "    <tr style=\"text-align: right;\">\n",
       "      <th></th>\n",
       "      <th>Temperature</th>\n",
       "      <th>Occurrence_of_nausea</th>\n",
       "      <th>Lumbar_pain</th>\n",
       "      <th>Urine_pushing</th>\n",
       "      <th>Micnutrition_pains</th>\n",
       "      <th>Burning_of_urethra</th>\n",
       "      <th>Decision_Inflammation_of_urinary_bladder</th>\n",
       "      <th>Decision_Nephritis_or_renal_pelvis_origin</th>\n",
       "    </tr>\n",
       "  </thead>\n",
       "  <tbody>\n",
       "    <tr>\n",
       "      <th>0</th>\n",
       "      <td>35.5</td>\n",
       "      <td>no</td>\n",
       "      <td>yes</td>\n",
       "      <td>no</td>\n",
       "      <td>no</td>\n",
       "      <td>no</td>\n",
       "      <td>no</td>\n",
       "      <td>no</td>\n",
       "    </tr>\n",
       "    <tr>\n",
       "      <th>1</th>\n",
       "      <td>35.9</td>\n",
       "      <td>no</td>\n",
       "      <td>no</td>\n",
       "      <td>yes</td>\n",
       "      <td>yes</td>\n",
       "      <td>yes</td>\n",
       "      <td>yes</td>\n",
       "      <td>no</td>\n",
       "    </tr>\n",
       "    <tr>\n",
       "      <th>2</th>\n",
       "      <td>35.9</td>\n",
       "      <td>no</td>\n",
       "      <td>yes</td>\n",
       "      <td>no</td>\n",
       "      <td>no</td>\n",
       "      <td>no</td>\n",
       "      <td>no</td>\n",
       "      <td>no</td>\n",
       "    </tr>\n",
       "    <tr>\n",
       "      <th>3</th>\n",
       "      <td>36.0</td>\n",
       "      <td>no</td>\n",
       "      <td>no</td>\n",
       "      <td>yes</td>\n",
       "      <td>yes</td>\n",
       "      <td>yes</td>\n",
       "      <td>yes</td>\n",
       "      <td>no</td>\n",
       "    </tr>\n",
       "    <tr>\n",
       "      <th>4</th>\n",
       "      <td>36.0</td>\n",
       "      <td>no</td>\n",
       "      <td>yes</td>\n",
       "      <td>no</td>\n",
       "      <td>no</td>\n",
       "      <td>no</td>\n",
       "      <td>no</td>\n",
       "      <td>no</td>\n",
       "    </tr>\n",
       "  </tbody>\n",
       "</table>\n",
       "</div>"
      ],
      "text/plain": [
       "  Temperature Occurrence_of_nausea Lumbar_pain Urine_pushing  \\\n",
       "0        35.5                   no         yes            no   \n",
       "1        35.9                   no          no           yes   \n",
       "2        35.9                   no         yes            no   \n",
       "3        36.0                   no          no           yes   \n",
       "4        36.0                   no         yes            no   \n",
       "\n",
       "  Micnutrition_pains Burning_of_urethra  \\\n",
       "0                 no                 no   \n",
       "1                yes                yes   \n",
       "2                 no                 no   \n",
       "3                yes                yes   \n",
       "4                 no                 no   \n",
       "\n",
       "  Decision_Inflammation_of_urinary_bladder  \\\n",
       "0                                       no   \n",
       "1                                      yes   \n",
       "2                                       no   \n",
       "3                                      yes   \n",
       "4                                       no   \n",
       "\n",
       "  Decision_Nephritis_or_renal_pelvis_origin  \n",
       "0                                        no  \n",
       "1                                        no  \n",
       "2                                        no  \n",
       "3                                        no  \n",
       "4                                        no  "
      ]
     },
     "execution_count": 2,
     "metadata": {},
     "output_type": "execute_result"
    }
   ],
   "source": [
    "disease.head()"
   ]
  },
  {
   "cell_type": "code",
   "execution_count": 3,
   "metadata": {},
   "outputs": [],
   "source": [
    "disease[\"Temperature\"] = [float(str(i).replace(\",\", \".\")) for i in disease[\"Temperature\"]]\n",
    "disease.Occurrence_of_nausea = disease.Occurrence_of_nausea.map(dict(yes=1, no=0))\n",
    "disease. Lumbar_pain = disease. Lumbar_pain .map(dict(yes=1, no=0))\n",
    "disease.Micnutrition_pains= disease.Micnutrition_pains.map(dict(yes=1, no=0))\n",
    "disease. Urine_pushing = disease.Urine_pushing.map(dict(yes=1, no=0))\n",
    "disease.Burning_of_urethra = disease.Burning_of_urethra .map(dict(yes=1, no=0))\n",
    "disease.Decision_Inflammation_of_urinary_bladder = disease.Decision_Inflammation_of_urinary_bladder .map(dict(yes=1, no=0))\n",
    "disease. Decision_Nephritis_or_renal_pelvis_origin = disease. Decision_Nephritis_or_renal_pelvis_origin.map(dict(yes=1, no=0))\n",
    "\n",
    "\n"
   ]
  },
  {
   "cell_type": "code",
   "execution_count": 4,
   "metadata": {},
   "outputs": [
    {
     "data": {
      "text/html": [
       "<div>\n",
       "<style scoped>\n",
       "    .dataframe tbody tr th:only-of-type {\n",
       "        vertical-align: middle;\n",
       "    }\n",
       "\n",
       "    .dataframe tbody tr th {\n",
       "        vertical-align: top;\n",
       "    }\n",
       "\n",
       "    .dataframe thead th {\n",
       "        text-align: right;\n",
       "    }\n",
       "</style>\n",
       "<table border=\"1\" class=\"dataframe\">\n",
       "  <thead>\n",
       "    <tr style=\"text-align: right;\">\n",
       "      <th></th>\n",
       "      <th>Temperature</th>\n",
       "      <th>Occurrence_of_nausea</th>\n",
       "      <th>Lumbar_pain</th>\n",
       "      <th>Urine_pushing</th>\n",
       "      <th>Micnutrition_pains</th>\n",
       "      <th>Burning_of_urethra</th>\n",
       "      <th>Decision_Inflammation_of_urinary_bladder</th>\n",
       "      <th>Decision_Nephritis_or_renal_pelvis_origin</th>\n",
       "    </tr>\n",
       "  </thead>\n",
       "  <tbody>\n",
       "    <tr>\n",
       "      <th>0</th>\n",
       "      <td>35.5</td>\n",
       "      <td>0</td>\n",
       "      <td>1</td>\n",
       "      <td>0</td>\n",
       "      <td>0</td>\n",
       "      <td>0</td>\n",
       "      <td>0</td>\n",
       "      <td>0</td>\n",
       "    </tr>\n",
       "    <tr>\n",
       "      <th>1</th>\n",
       "      <td>35.9</td>\n",
       "      <td>0</td>\n",
       "      <td>0</td>\n",
       "      <td>1</td>\n",
       "      <td>1</td>\n",
       "      <td>1</td>\n",
       "      <td>1</td>\n",
       "      <td>0</td>\n",
       "    </tr>\n",
       "    <tr>\n",
       "      <th>2</th>\n",
       "      <td>35.9</td>\n",
       "      <td>0</td>\n",
       "      <td>1</td>\n",
       "      <td>0</td>\n",
       "      <td>0</td>\n",
       "      <td>0</td>\n",
       "      <td>0</td>\n",
       "      <td>0</td>\n",
       "    </tr>\n",
       "    <tr>\n",
       "      <th>3</th>\n",
       "      <td>36.0</td>\n",
       "      <td>0</td>\n",
       "      <td>0</td>\n",
       "      <td>1</td>\n",
       "      <td>1</td>\n",
       "      <td>1</td>\n",
       "      <td>1</td>\n",
       "      <td>0</td>\n",
       "    </tr>\n",
       "    <tr>\n",
       "      <th>4</th>\n",
       "      <td>36.0</td>\n",
       "      <td>0</td>\n",
       "      <td>1</td>\n",
       "      <td>0</td>\n",
       "      <td>0</td>\n",
       "      <td>0</td>\n",
       "      <td>0</td>\n",
       "      <td>0</td>\n",
       "    </tr>\n",
       "  </tbody>\n",
       "</table>\n",
       "</div>"
      ],
      "text/plain": [
       "   Temperature  Occurrence_of_nausea  Lumbar_pain  Urine_pushing  \\\n",
       "0         35.5                     0            1              0   \n",
       "1         35.9                     0            0              1   \n",
       "2         35.9                     0            1              0   \n",
       "3         36.0                     0            0              1   \n",
       "4         36.0                     0            1              0   \n",
       "\n",
       "   Micnutrition_pains  Burning_of_urethra  \\\n",
       "0                   0                   0   \n",
       "1                   1                   1   \n",
       "2                   0                   0   \n",
       "3                   1                   1   \n",
       "4                   0                   0   \n",
       "\n",
       "   Decision_Inflammation_of_urinary_bladder  \\\n",
       "0                                         0   \n",
       "1                                         1   \n",
       "2                                         0   \n",
       "3                                         1   \n",
       "4                                         0   \n",
       "\n",
       "   Decision_Nephritis_or_renal_pelvis_origin  \n",
       "0                                          0  \n",
       "1                                          0  \n",
       "2                                          0  \n",
       "3                                          0  \n",
       "4                                          0  "
      ]
     },
     "execution_count": 4,
     "metadata": {},
     "output_type": "execute_result"
    }
   ],
   "source": [
    "disease.head()"
   ]
  },
  {
   "cell_type": "code",
   "execution_count": 5,
   "metadata": {},
   "outputs": [
    {
     "name": "stdout",
     "output_type": "stream",
     "text": [
      "<class 'pandas.core.frame.DataFrame'>\n",
      "RangeIndex: 120 entries, 0 to 119\n",
      "Data columns (total 8 columns):\n",
      " #   Column                                     Non-Null Count  Dtype  \n",
      "---  ------                                     --------------  -----  \n",
      " 0   Temperature                                120 non-null    float64\n",
      " 1   Occurrence_of_nausea                       120 non-null    int64  \n",
      " 2   Lumbar_pain                                120 non-null    int64  \n",
      " 3   Urine_pushing                              120 non-null    int64  \n",
      " 4   Micnutrition_pains                         120 non-null    int64  \n",
      " 5   Burning_of_urethra                         120 non-null    int64  \n",
      " 6   Decision_Inflammation_of_urinary_bladder   120 non-null    int64  \n",
      " 7   Decision_Nephritis_or_renal_pelvis_origin  120 non-null    int64  \n",
      "dtypes: float64(1), int64(7)\n",
      "memory usage: 7.6 KB\n"
     ]
    }
   ],
   "source": [
    "disease.info()"
   ]
  },
  {
   "cell_type": "code",
   "execution_count": 6,
   "metadata": {},
   "outputs": [
    {
     "data": {
      "text/plain": [
       "0    61\n",
       "1    59\n",
       "Name: Decision_Inflammation_of_urinary_bladder, dtype: int64"
      ]
     },
     "execution_count": 6,
     "metadata": {},
     "output_type": "execute_result"
    }
   ],
   "source": [
    "disease['Decision_Inflammation_of_urinary_bladder'].value_counts()"
   ]
  },
  {
   "cell_type": "code",
   "execution_count": 7,
   "metadata": {},
   "outputs": [
    {
     "data": {
      "text/plain": [
       "0    70\n",
       "1    50\n",
       "Name: Decision_Nephritis_or_renal_pelvis_origin, dtype: int64"
      ]
     },
     "execution_count": 7,
     "metadata": {},
     "output_type": "execute_result"
    }
   ],
   "source": [
    "disease['Decision_Nephritis_or_renal_pelvis_origin'].value_counts()"
   ]
  },
  {
   "cell_type": "code",
   "execution_count": 8,
   "metadata": {},
   "outputs": [
    {
     "data": {
      "text/html": [
       "<div>\n",
       "<style scoped>\n",
       "    .dataframe tbody tr th:only-of-type {\n",
       "        vertical-align: middle;\n",
       "    }\n",
       "\n",
       "    .dataframe tbody tr th {\n",
       "        vertical-align: top;\n",
       "    }\n",
       "\n",
       "    .dataframe thead th {\n",
       "        text-align: right;\n",
       "    }\n",
       "</style>\n",
       "<table border=\"1\" class=\"dataframe\">\n",
       "  <thead>\n",
       "    <tr style=\"text-align: right;\">\n",
       "      <th></th>\n",
       "      <th>Temperature</th>\n",
       "      <th>Occurrence_of_nausea</th>\n",
       "      <th>Lumbar_pain</th>\n",
       "      <th>Urine_pushing</th>\n",
       "      <th>Micnutrition_pains</th>\n",
       "      <th>Burning_of_urethra</th>\n",
       "      <th>Decision_Inflammation_of_urinary_bladder</th>\n",
       "      <th>Decision_Nephritis_or_renal_pelvis_origin</th>\n",
       "    </tr>\n",
       "  </thead>\n",
       "  <tbody>\n",
       "    <tr>\n",
       "      <th>count</th>\n",
       "      <td>120.000000</td>\n",
       "      <td>120.000000</td>\n",
       "      <td>120.000000</td>\n",
       "      <td>120.000000</td>\n",
       "      <td>120.000000</td>\n",
       "      <td>120.000000</td>\n",
       "      <td>120.000000</td>\n",
       "      <td>120.000000</td>\n",
       "    </tr>\n",
       "    <tr>\n",
       "      <th>mean</th>\n",
       "      <td>38.724167</td>\n",
       "      <td>0.241667</td>\n",
       "      <td>0.583333</td>\n",
       "      <td>0.666667</td>\n",
       "      <td>0.491667</td>\n",
       "      <td>0.416667</td>\n",
       "      <td>0.491667</td>\n",
       "      <td>0.416667</td>\n",
       "    </tr>\n",
       "    <tr>\n",
       "      <th>std</th>\n",
       "      <td>1.819132</td>\n",
       "      <td>0.429888</td>\n",
       "      <td>0.495074</td>\n",
       "      <td>0.473381</td>\n",
       "      <td>0.502027</td>\n",
       "      <td>0.495074</td>\n",
       "      <td>0.502027</td>\n",
       "      <td>0.495074</td>\n",
       "    </tr>\n",
       "    <tr>\n",
       "      <th>min</th>\n",
       "      <td>35.500000</td>\n",
       "      <td>0.000000</td>\n",
       "      <td>0.000000</td>\n",
       "      <td>0.000000</td>\n",
       "      <td>0.000000</td>\n",
       "      <td>0.000000</td>\n",
       "      <td>0.000000</td>\n",
       "      <td>0.000000</td>\n",
       "    </tr>\n",
       "    <tr>\n",
       "      <th>25%</th>\n",
       "      <td>37.100000</td>\n",
       "      <td>0.000000</td>\n",
       "      <td>0.000000</td>\n",
       "      <td>0.000000</td>\n",
       "      <td>0.000000</td>\n",
       "      <td>0.000000</td>\n",
       "      <td>0.000000</td>\n",
       "      <td>0.000000</td>\n",
       "    </tr>\n",
       "    <tr>\n",
       "      <th>50%</th>\n",
       "      <td>37.950000</td>\n",
       "      <td>0.000000</td>\n",
       "      <td>1.000000</td>\n",
       "      <td>1.000000</td>\n",
       "      <td>0.000000</td>\n",
       "      <td>0.000000</td>\n",
       "      <td>0.000000</td>\n",
       "      <td>0.000000</td>\n",
       "    </tr>\n",
       "    <tr>\n",
       "      <th>75%</th>\n",
       "      <td>40.600000</td>\n",
       "      <td>0.000000</td>\n",
       "      <td>1.000000</td>\n",
       "      <td>1.000000</td>\n",
       "      <td>1.000000</td>\n",
       "      <td>1.000000</td>\n",
       "      <td>1.000000</td>\n",
       "      <td>1.000000</td>\n",
       "    </tr>\n",
       "    <tr>\n",
       "      <th>max</th>\n",
       "      <td>41.500000</td>\n",
       "      <td>1.000000</td>\n",
       "      <td>1.000000</td>\n",
       "      <td>1.000000</td>\n",
       "      <td>1.000000</td>\n",
       "      <td>1.000000</td>\n",
       "      <td>1.000000</td>\n",
       "      <td>1.000000</td>\n",
       "    </tr>\n",
       "  </tbody>\n",
       "</table>\n",
       "</div>"
      ],
      "text/plain": [
       "       Temperature  Occurrence_of_nausea  Lumbar_pain  Urine_pushing  \\\n",
       "count   120.000000            120.000000   120.000000     120.000000   \n",
       "mean     38.724167              0.241667     0.583333       0.666667   \n",
       "std       1.819132              0.429888     0.495074       0.473381   \n",
       "min      35.500000              0.000000     0.000000       0.000000   \n",
       "25%      37.100000              0.000000     0.000000       0.000000   \n",
       "50%      37.950000              0.000000     1.000000       1.000000   \n",
       "75%      40.600000              0.000000     1.000000       1.000000   \n",
       "max      41.500000              1.000000     1.000000       1.000000   \n",
       "\n",
       "       Micnutrition_pains  Burning_of_urethra  \\\n",
       "count          120.000000          120.000000   \n",
       "mean             0.491667            0.416667   \n",
       "std              0.502027            0.495074   \n",
       "min              0.000000            0.000000   \n",
       "25%              0.000000            0.000000   \n",
       "50%              0.000000            0.000000   \n",
       "75%              1.000000            1.000000   \n",
       "max              1.000000            1.000000   \n",
       "\n",
       "       Decision_Inflammation_of_urinary_bladder  \\\n",
       "count                                120.000000   \n",
       "mean                                   0.491667   \n",
       "std                                    0.502027   \n",
       "min                                    0.000000   \n",
       "25%                                    0.000000   \n",
       "50%                                    0.000000   \n",
       "75%                                    1.000000   \n",
       "max                                    1.000000   \n",
       "\n",
       "       Decision_Nephritis_or_renal_pelvis_origin  \n",
       "count                                 120.000000  \n",
       "mean                                    0.416667  \n",
       "std                                     0.495074  \n",
       "min                                     0.000000  \n",
       "25%                                     0.000000  \n",
       "50%                                     0.000000  \n",
       "75%                                     1.000000  \n",
       "max                                     1.000000  "
      ]
     },
     "execution_count": 8,
     "metadata": {},
     "output_type": "execute_result"
    }
   ],
   "source": [
    "disease.describe()"
   ]
  },
  {
   "cell_type": "code",
   "execution_count": 9,
   "metadata": {},
   "outputs": [],
   "source": [
    "%matplotlib inline\n",
    "import matplotlib.pyplot as plt\n"
   ]
  },
  {
   "cell_type": "code",
   "execution_count": 10,
   "metadata": {},
   "outputs": [
    {
     "data": {
      "text/plain": [
       "(120, 8)"
      ]
     },
     "execution_count": 10,
     "metadata": {},
     "output_type": "execute_result"
    }
   ],
   "source": [
    "disease.shape"
   ]
  },
  {
   "cell_type": "code",
   "execution_count": 11,
   "metadata": {},
   "outputs": [
    {
     "data": {
      "text/plain": [
       "Temperature                                  0\n",
       "Occurrence_of_nausea                         0\n",
       "Lumbar_pain                                  0\n",
       "Urine_pushing                                0\n",
       "Micnutrition_pains                           0\n",
       "Burning_of_urethra                           0\n",
       "Decision_Inflammation_of_urinary_bladder     0\n",
       "Decision_Nephritis_or_renal_pelvis_origin    0\n",
       "dtype: int64"
      ]
     },
     "execution_count": 11,
     "metadata": {},
     "output_type": "execute_result"
    }
   ],
   "source": [
    "disease.isnull().sum()"
   ]
  },
  {
   "cell_type": "code",
   "execution_count": 12,
   "metadata": {},
   "outputs": [],
   "source": [
    "X = disease.drop(columns = 'Decision_Inflammation_of_urinary_bladder',axis = 1)\n",
    "Y = disease['Decision_Inflammation_of_urinary_bladder']"
   ]
  },
  {
   "cell_type": "code",
   "execution_count": 13,
   "metadata": {},
   "outputs": [
    {
     "name": "stdout",
     "output_type": "stream",
     "text": [
      "     Temperature  Occurrence_of_nausea  Lumbar_pain  Urine_pushing  \\\n",
      "0           35.5                     0            1              0   \n",
      "1           35.9                     0            0              1   \n",
      "2           35.9                     0            1              0   \n",
      "3           36.0                     0            0              1   \n",
      "4           36.0                     0            1              0   \n",
      "..           ...                   ...          ...            ...   \n",
      "115         41.4                     0            1              1   \n",
      "116         41.5                     0            0              0   \n",
      "117         41.5                     1            1              0   \n",
      "118         41.5                     0            1              1   \n",
      "119         41.5                     0            1              1   \n",
      "\n",
      "     Micnutrition_pains  Burning_of_urethra  \\\n",
      "0                     0                   0   \n",
      "1                     1                   1   \n",
      "2                     0                   0   \n",
      "3                     1                   1   \n",
      "4                     0                   0   \n",
      "..                  ...                 ...   \n",
      "115                   0                   1   \n",
      "116                   0                   0   \n",
      "117                   1                   0   \n",
      "118                   0                   1   \n",
      "119                   0                   1   \n",
      "\n",
      "     Decision_Nephritis_or_renal_pelvis_origin  \n",
      "0                                            0  \n",
      "1                                            0  \n",
      "2                                            0  \n",
      "3                                            0  \n",
      "4                                            0  \n",
      "..                                         ...  \n",
      "115                                          1  \n",
      "116                                          0  \n",
      "117                                          1  \n",
      "118                                          1  \n",
      "119                                          1  \n",
      "\n",
      "[120 rows x 7 columns]\n"
     ]
    }
   ],
   "source": [
    "print(X)"
   ]
  },
  {
   "cell_type": "code",
   "execution_count": 14,
   "metadata": {},
   "outputs": [
    {
     "name": "stdout",
     "output_type": "stream",
     "text": [
      "0      0\n",
      "1      1\n",
      "2      0\n",
      "3      1\n",
      "4      0\n",
      "      ..\n",
      "115    0\n",
      "116    0\n",
      "117    0\n",
      "118    0\n",
      "119    0\n",
      "Name: Decision_Inflammation_of_urinary_bladder, Length: 120, dtype: int64\n"
     ]
    }
   ],
   "source": [
    "print(Y)"
   ]
  },
  {
   "cell_type": "code",
   "execution_count": 15,
   "metadata": {},
   "outputs": [],
   "source": [
    "# Splitting the test and train data\n",
    "X_train,X_test,Y_train,Y_test = train_test_split(X,Y,test_size = 0.2,stratify = Y,random_state = 2)\n"
   ]
  },
  {
   "cell_type": "code",
   "execution_count": 16,
   "metadata": {},
   "outputs": [
    {
     "name": "stdout",
     "output_type": "stream",
     "text": [
      "(120, 7) (96, 7) (24, 7)\n"
     ]
    }
   ],
   "source": [
    "print(X.shape,X_train.shape,X_test.shape)"
   ]
  },
  {
   "cell_type": "code",
   "execution_count": 17,
   "metadata": {},
   "outputs": [],
   "source": [
    "# Model Training \n",
    "# Logistic Regression Model\n",
    "model = LogisticRegression()\n"
   ]
  },
  {
   "cell_type": "code",
   "execution_count": 18,
   "metadata": {},
   "outputs": [
    {
     "name": "stderr",
     "output_type": "stream",
     "text": [
      "C:\\Users\\Pyanshi Jain\\AppData\\Roaming\\Python\\Python38\\site-packages\\sklearn\\linear_model\\_logistic.py:814: ConvergenceWarning: lbfgs failed to converge (status=1):\n",
      "STOP: TOTAL NO. of ITERATIONS REACHED LIMIT.\n",
      "\n",
      "Increase the number of iterations (max_iter) or scale the data as shown in:\n",
      "    https://scikit-learn.org/stable/modules/preprocessing.html\n",
      "Please also refer to the documentation for alternative solver options:\n",
      "    https://scikit-learn.org/stable/modules/linear_model.html#logistic-regression\n",
      "  n_iter_i = _check_optimize_result(\n"
     ]
    },
    {
     "data": {
      "text/plain": [
       "LogisticRegression()"
      ]
     },
     "execution_count": 18,
     "metadata": {},
     "output_type": "execute_result"
    }
   ],
   "source": [
    "# training the LogisticRegression model with training data\n",
    "model.fit(X_train,Y_train)\n"
   ]
  },
  {
   "cell_type": "code",
   "execution_count": 19,
   "metadata": {},
   "outputs": [],
   "source": [
    "# Model Evaluation\n",
    "# Accuracy score\n",
    "# accuracy on training data\n",
    "X_train_prediction = model.predict(X_train)\n",
    "training_data_accuracy = accuracy_score(X_train_prediction,Y_train)\n"
   ]
  },
  {
   "cell_type": "code",
   "execution_count": 20,
   "metadata": {},
   "outputs": [
    {
     "name": "stdout",
     "output_type": "stream",
     "text": [
      "Accuracy on training data: 1.0\n"
     ]
    }
   ],
   "source": [
    "print('Accuracy on training data:',training_data_accuracy)"
   ]
  },
  {
   "cell_type": "code",
   "execution_count": 21,
   "metadata": {},
   "outputs": [],
   "source": [
    "X_test_prediction = model.predict(X_test)\n",
    "testing_data_accuracy = accuracy_score(X_test_prediction,Y_test)"
   ]
  },
  {
   "cell_type": "code",
   "execution_count": 22,
   "metadata": {},
   "outputs": [
    {
     "name": "stdout",
     "output_type": "stream",
     "text": [
      "Accuracy on Test data:  1.0\n"
     ]
    }
   ],
   "source": [
    "print('Accuracy on Test data: ',testing_data_accuracy)"
   ]
  },
  {
   "cell_type": "code",
   "execution_count": 23,
   "metadata": {},
   "outputs": [
    {
     "name": "stdout",
     "output_type": "stream",
     "text": [
      "[1]\n"
     ]
    },
    {
     "name": "stderr",
     "output_type": "stream",
     "text": [
      "C:\\Users\\Pyanshi Jain\\AppData\\Roaming\\Python\\Python38\\site-packages\\sklearn\\base.py:450: UserWarning: X does not have valid feature names, but LogisticRegression was fitted with feature names\n",
      "  warnings.warn(\n"
     ]
    }
   ],
   "source": [
    "# Building a predictive system\n",
    "input_data = (41.1,1,1,1,1,0,1)\n",
    "input_data_as_numpy_array = np.asarray(input_data)\n",
    "# reshape the numpy array as we are predicting for only one instance\n",
    "input_data_reshaped = input_data_as_numpy_array.reshape(1,-1)\n",
    "\n",
    "prediction = model.predict(input_data_reshaped)\n",
    "print(prediction)"
   ]
  },
  {
   "cell_type": "code",
   "execution_count": 24,
   "metadata": {},
   "outputs": [],
   "source": [
    "# ## Train - test splitting\n",
    "# import numpy as np\n",
    "# def split_train_test(data,test_ratio):\n",
    "#     shuffled = (np.random.permutation(len(data)),test_ratio)\n",
    "#     test_set_size = int(len(data) * test_ratio)\n",
    "#     test_indices = shuffled[:test_set_size]\n",
    "#     train_indices = shuffled[:test_set_size]\n",
    "#     return data.iloc[train_indices],data.iloc[test_indices]\n",
    "# # train_set,test_set = split_train_test(disease , 0.2)\n",
    "# # print(f\"Rows in train set: {len(train_set)}\\n Rows in test set: {len(test_set)}\")\n",
    " "
   ]
  },
  {
   "cell_type": "code",
   "execution_count": null,
   "metadata": {},
   "outputs": [],
   "source": []
  }
 ],
 "metadata": {
  "interpreter": {
   "hash": "1baa965d5efe3ac65b79dfc60c0d706280b1da80fedb7760faf2759126c4f253"
  },
  "kernelspec": {
   "display_name": "Python 3.8.7 64-bit",
   "language": "python",
   "name": "python3"
  },
  "language_info": {
   "codemirror_mode": {
    "name": "ipython",
    "version": 3
   },
   "file_extension": ".py",
   "mimetype": "text/x-python",
   "name": "python",
   "nbconvert_exporter": "python",
   "pygments_lexer": "ipython3",
   "version": "3.8.7"
  },
  "orig_nbformat": 4
 },
 "nbformat": 4,
 "nbformat_minor": 2
}
